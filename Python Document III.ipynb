{
 "cells": [
  {
   "cell_type": "markdown",
   "metadata": {},
   "source": [
    "# Data Collections 2 (Dictionaries, Sets) and Importing Modules"
   ]
  },
  {
   "cell_type": "markdown",
   "metadata": {},
   "source": [
    "## Tasks Today:\n",
    "\n",
    "1) Dictionary <br>\n",
    " &nbsp;&nbsp;&nbsp;&nbsp; a) Declaring (key, value) <br>\n",
    " &nbsp;&nbsp;&nbsp;&nbsp; b) Accessing Values <br>\n",
    " &nbsp;&nbsp;&nbsp;&nbsp; ------ Exercise #1 - Print the eye color of each person in a double nested dict <br>\n",
    " &nbsp;&nbsp;&nbsp;&nbsp; c) Adding New Pairs <br>\n",
    " &nbsp;&nbsp;&nbsp;&nbsp; d) Modifying Values <br>\n",
    " &nbsp;&nbsp;&nbsp;&nbsp; e) Removing Key, Value Pairs <br>\n",
    " &nbsp;&nbsp;&nbsp;&nbsp; f) Looping a Dictionary <br>\n",
    " &nbsp;&nbsp;&nbsp;&nbsp; g) Looping Only Keys <br>\n",
    " &nbsp;&nbsp;&nbsp;&nbsp; h) Looping Only Values <br>\n",
    " &nbsp;&nbsp;&nbsp;&nbsp; ------ Exercise #2 - Create a Function that Prints All Key Value Pairs within a print .format()  <br>\n",
    " &nbsp;&nbsp;&nbsp;&nbsp; i) sorted() <br>\n",
    " &nbsp;&nbsp;&nbsp;&nbsp; j) Lists with Dictionaries <br>\n",
    " &nbsp;&nbsp;&nbsp;&nbsp; k) Dictionaries with Lists <br>\n",
    " &nbsp;&nbsp;&nbsp;&nbsp; l) Dictionaries with Dictionaries <br>\n",
    " &nbsp;&nbsp;&nbsp;&nbsp; ------ Exercise #3 - Write a Function that asks someone's name and address, and then stores that into a dictionary, which prints all names and addresses after they're done putting information in...  <br>\n",
    "2) Dictionaries vs. Lists (over time)<br>\n",
    "3) Set <br>\n",
    " &nbsp;&nbsp;&nbsp;&nbsp; a) Declaring <br>\n",
    " &nbsp;&nbsp;&nbsp;&nbsp; b) .add() <br>\n",
    " &nbsp;&nbsp;&nbsp;&nbsp; c) .remove() <br>\n",
    " &nbsp;&nbsp;&nbsp;&nbsp; d) .union() <br>\n",
    " &nbsp;&nbsp;&nbsp;&nbsp; e) .intersection() <br>\n",
    " &nbsp;&nbsp;&nbsp;&nbsp; f) .difference() <br>\n",
    " &nbsp;&nbsp;&nbsp;&nbsp; g) Frozen Set <br>\n",
    "4) Modules <br>\n",
    " &nbsp;&nbsp;&nbsp;&nbsp; a) Importing Entire Modules <br>\n",
    " &nbsp;&nbsp;&nbsp;&nbsp; b) Importing Methods Only <br>\n",
    " &nbsp;&nbsp;&nbsp;&nbsp; c) Using the 'as' Keyword <br>\n",
    " &nbsp;&nbsp;&nbsp;&nbsp; d) Creating a Module <br>\n",
    "5) Exercises <br>\n",
    " &nbsp;&nbsp;&nbsp;&nbsp; a) Build a Shopping Cart <br>\n",
    " &nbsp;&nbsp;&nbsp;&nbsp; b) Create Your Own Module <br>"
   ]
  },
  {
   "cell_type": "markdown",
   "metadata": {},
   "source": [
    "## Dictionary <br>\n",
    "<p>A collection of data with 'key:value' pairs. Dictionaries are ordered as of Python 3.6</p>"
   ]
  },
  {
   "cell_type": "markdown",
   "metadata": {},
   "source": [
    "##### Declaring (key, value)"
   ]
  },
  {
   "cell_type": "code",
   "execution_count": 2,
   "metadata": {},
   "outputs": [],
   "source": [
    "# **Keys should be unique**\n",
    "# **Can use numbers or strings as keys**\n",
    "# *Dictionary syntax:*\n",
    "dict_1 = {}\n",
    "\n",
    "# **OR (Second method is less common, but still a nifty trick):\n",
    "\n",
    "dict_2 = dict()\n",
    "\n",
    "\n",
    "# ***With data:***\n",
    "dict_3 = {\n",
    "    \"dave\" : \"255 Main Street\",\n",
    "    \"sean\" : \"522 1st Street\",\n",
    "#     **Don't have to have the comma at the end of the last item, but can be useful and doesn't hurt to do it:**\n",
    "    0 : \"This is a value for the key of 0\",\n",
    "}"
   ]
  },
  {
   "cell_type": "markdown",
   "metadata": {},
   "source": [
    "##### Accessing Values"
   ]
  },
  {
   "cell_type": "code",
   "execution_count": 5,
   "metadata": {},
   "outputs": [
    {
     "name": "stdout",
     "output_type": "stream",
     "text": [
      "255 Main Street\n",
      "This is a value for the key of 0\n"
     ]
    }
   ],
   "source": [
    "# ***Lists are rearrangealbe, dictionaries are NOT!***\n",
    "# **Syntax: dict[key]  **\n",
    "# ** ^ returns the value**\n",
    "\n",
    "# **Below two lines, will only print last one. See below to have both print**\n",
    "dict_3[\"dave\"]\n",
    "# **When we only do \"dict_3[0]\" that is returning it. This comes back with quotes around \"'This is the value for the key of 0'\"**\n",
    "dict_3[0]\n",
    "\n",
    "# **Here's how to fix issue above and have both print:**\n",
    "print(dict_3[\"dave\"])\n",
    "print(dict_3[0])"
   ]
  },
  {
   "cell_type": "markdown",
   "metadata": {},
   "source": [
    "## In-Class Exercise #1 - Print a formatted statement from the dictionary below <br>\n",
    "<p>The output should be '2018 Chevrolet Silverado'</p>"
   ]
  },
  {
   "cell_type": "code",
   "execution_count": 10,
   "metadata": {},
   "outputs": [
    {
     "name": "stdout",
     "output_type": "stream",
     "text": [
      "2018 Chevrolet Silverado\n"
     ]
    }
   ],
   "source": [
    "# use the dict below\n",
    "truck = {\n",
    "    'year': 2018,\n",
    "    'make': 'Chevrolet',\n",
    "    'model': 'Silverado'\n",
    "}\n",
    "\n",
    "print(f\"{truck['year']} {truck['make']} {truck['model']}\")\n",
    "\n"
   ]
  },
  {
   "cell_type": "markdown",
   "metadata": {},
   "source": [
    "##### Adding New Pairs"
   ]
  },
  {
   "cell_type": "code",
   "execution_count": 11,
   "metadata": {},
   "outputs": [
    {
     "data": {
      "text/plain": [
       "{'dave': '255 Main Street',\n",
       " 'sean': '522 1st Street',\n",
       " 0: 'This is a value for the key of 0',\n",
       " 'bob': 'From Ohio'}"
      ]
     },
     "execution_count": 11,
     "metadata": {},
     "output_type": "execute_result"
    }
   ],
   "source": [
    "# ***Can't append things to dictionary!!***\n",
    "# **Syntax: dict[key] = value **\n",
    "\n",
    "dict_3[\"bob\"] = \"From Ohio\"\n",
    "\n",
    "dict_3"
   ]
  },
  {
   "cell_type": "markdown",
   "metadata": {},
   "source": [
    "##### Modifying Values"
   ]
  },
  {
   "cell_type": "code",
   "execution_count": 14,
   "metadata": {},
   "outputs": [
    {
     "data": {
      "text/plain": [
       "{'dave': '255 Main Street',\n",
       " 'sean': '522 1st Street',\n",
       " 0: 'This is a value for the key of 0',\n",
       " 'bob': 'Nashville'}"
      ]
     },
     "execution_count": 14,
     "metadata": {},
     "output_type": "execute_result"
    }
   ],
   "source": [
    "# **Same thing as adding new pairs, we're just overwriting it**\n",
    "# **Syntax: dict[key] = value **\n",
    "\n",
    "# **This changes the value associated with the key \"bob\" to \"Nashville\":**\n",
    "dict_3[\"bob\"] = \"Nashville\"\n",
    "\n",
    "dict_3"
   ]
  },
  {
   "cell_type": "markdown",
   "metadata": {},
   "source": [
    "##### Removing Key, Value Pairs"
   ]
  },
  {
   "cell_type": "code",
   "execution_count": 15,
   "metadata": {},
   "outputs": [
    {
     "data": {
      "text/plain": [
       "{'dave': '255 Main Street',\n",
       " 'sean': '522 1st Street',\n",
       " 0: 'This is a value for the key of 0'}"
      ]
     },
     "execution_count": 15,
     "metadata": {},
     "output_type": "execute_result"
    }
   ],
   "source": [
    "# **Use the del command to get rid of key, value pair**\n",
    "# **Syntax: del dict['key']**\n",
    "\n",
    "del dict_3[\"bob\"]\n",
    "\n",
    "dict_3"
   ]
  },
  {
   "cell_type": "markdown",
   "metadata": {},
   "source": [
    "##### Looping a Dictionary"
   ]
  },
  {
   "cell_type": "code",
   "execution_count": 16,
   "metadata": {},
   "outputs": [
    {
     "name": "stdout",
     "output_type": "stream",
     "text": [
      "dave 255 Main Street\n",
      "sean 522 1st Street\n",
      "0 This is a value for the key of 0\n"
     ]
    }
   ],
   "source": [
    "# **This is to loop EVERYTHING!!**\n",
    "# ** First method is by using the \".items()\":**\n",
    "for key, value in dict_3.items():\n",
    "    print(key, value)\n",
    "\n",
    "# *******Skipped over this, but sounded like another way to loop through entire dictionary:*******\n",
    "# a, b, c = 1, 2, 3\n",
    "# print(a)\n",
    "# print(b)\n",
    "# print(c)"
   ]
  },
  {
   "cell_type": "markdown",
   "metadata": {},
   "source": [
    "##### Looping Only Keys"
   ]
  },
  {
   "cell_type": "code",
   "execution_count": 18,
   "metadata": {},
   "outputs": [
    {
     "name": "stdout",
     "output_type": "stream",
     "text": [
      "dave\n",
      "sean\n",
      "0\n"
     ]
    }
   ],
   "source": [
    "# .keys()\n",
    "for key in dict_3.keys():\n",
    "    print(key)"
   ]
  },
  {
   "cell_type": "markdown",
   "metadata": {},
   "source": [
    "##### Looping Only Values"
   ]
  },
  {
   "cell_type": "code",
   "execution_count": 19,
   "metadata": {},
   "outputs": [
    {
     "name": "stdout",
     "output_type": "stream",
     "text": [
      "255 Main Street\n",
      "522 1st Street\n",
      "This is a value for the key of 0\n"
     ]
    }
   ],
   "source": [
    "# .values()\n",
    "for value in dict_3.values():\n",
    "    print(value)"
   ]
  },
  {
   "cell_type": "markdown",
   "metadata": {},
   "source": [
    "## In-Class Exercise #2 - Create a Function that Prints All Key Value Pairs within a print .format() <br>\n",
    "<p><b>Output should be:</b><br>\n",
    "Max has blue eyes<br>\n",
    "Lilly has brown eyes<br>\n",
    "Barney has blue eyes<br>\n",
    "etc.\n",
    "</p>\n"
   ]
  },
  {
   "cell_type": "raw",
   "metadata": {},
   "source": [
    "# use the dict below\n",
    "\n",
    "WEIRD BOX, NOT WORKING CORRECTLY (won't print and won't let me comment in/out)!!! ANSWERED IN BELOW BOX"
   ]
  },
  {
   "cell_type": "markdown",
   "metadata": {},
   "source": [
    "##### sorted()"
   ]
  },
  {
   "cell_type": "code",
   "execution_count": 5,
   "metadata": {},
   "outputs": [
    {
     "name": "stdout",
     "output_type": "stream",
     "text": [
      "[('Barney', 'blue'), ('Larney', 'brown'), ('Lilly', 'brown'), ('Max', 'blue'), ('Ted', 'purple')]\n",
      "['Barney', 'Larney', 'Lilly', 'Max', 'Ted']\n",
      "['blue', 'blue', 'brown', 'brown', 'purple']\n",
      "['blue', 'blue', 'brown', 'brown', 'purple']\n"
     ]
    }
   ],
   "source": [
    "# ****THIS IS THE ANSWER TO THE ABOVE BOX*****\n",
    "people = {\n",
    "    'Max': 'blue',\n",
    "    'Lilly': 'brown',\n",
    "    'Barney': 'blue',\n",
    "    'Larney': 'brown',\n",
    "    'Ted': 'purple'\n",
    "}\n",
    "\n",
    "# def printDictList():\n",
    "#     for key, value in people.items():\n",
    "#         print(f\"{key} has {value} eyes\")\n",
    "        \n",
    "# printDictList()\n",
    "\n",
    "\n",
    "\n",
    "# ****This is where this box actually starts****\n",
    "# ***sorted()***\n",
    "# **You can't sort a dictionary itself. But the same way that we can sorted to return a new list without changing original order**\n",
    "# sorts variables in order\n",
    "# sorted(dict.values()) or dict.keys() or dict.items()\n",
    "\n",
    "# *Sorts the entire dictionary:*\n",
    "print(sorted(people.items()))\n",
    "# *Sorts the keys in the dictionary:*\n",
    "print(sorted(people.keys()))\n",
    "# *Sorts the values in the dictionary:*\n",
    "print(sorted(people.values()))\n",
    "\n",
    "# *This lets us save the returned sorted list as a variable of \"new_variable\"\n",
    "new_variable = sorted(people.values())\n",
    "print(new_variable)"
   ]
  },
  {
   "cell_type": "markdown",
   "metadata": {},
   "source": [
    "##### List with Dictionaries"
   ]
  },
  {
   "cell_type": "code",
   "execution_count": 7,
   "metadata": {},
   "outputs": [
    {
     "name": "stdout",
     "output_type": "stream",
     "text": [
      "Barbara\n",
      "random_guy\n",
      "random_girl\n"
     ]
    }
   ],
   "source": [
    "# **Can't have spaces on keys!!**\n",
    "names = [\"Dave\", \"Randy\", \"Greg\", {\"random_guy\" : \"Robert\", \"random_girl\" : \"Barbara\"}]\n",
    "\n",
    "# *This gets us just \"Barbara\" printed out:*\n",
    "print(names[3][\"random_girl\"])\n",
    "\n",
    "# **Gets all the keys from a nested dictionary inside a list:**\n",
    "for keys in names[3].keys():\n",
    "    print(keys)\n"
   ]
  },
  {
   "cell_type": "markdown",
   "metadata": {},
   "source": [
    "##### Dictionaries with Lists"
   ]
  },
  {
   "cell_type": "code",
   "execution_count": 28,
   "metadata": {},
   "outputs": [
    {
     "name": "stdout",
     "output_type": "stream",
     "text": [
      "['smith']\n",
      "smith\n",
      "54\n",
      "7\n",
      "11\n",
      "bottle\n"
     ]
    }
   ],
   "source": [
    "# ***Be careful if using numbers as keys. Don't confuse them with index's, dictionaries DON'T have index's***\n",
    "# **Example of why it can be an issue:**\n",
    "random_dict = {\n",
    "    0: \"Zero\",\n",
    "    3: \"One\",\n",
    "    17: \"Two\",\n",
    "    2: \"Three\",\n",
    "}\n",
    "\n",
    "# **Get error because there isn't a key of 1 in the dictionary**YOU CAN'T INDEX A DICTIONARY**\n",
    "# random_dict[1]\n",
    "\n",
    "\n",
    "# *Actual Practice with dictionarys with lists:*\n",
    "random_data = {\n",
    "    \"list1\" : [54, 7, 11],\n",
    "    \"2\" : [\"smith\"],\n",
    "}\n",
    "\n",
    "# **Selecting the key \"2\", NOT index 2**This will print out the value of: \"smith\"\n",
    "# for key in random_data[\"2\"]:\n",
    "#     print(key)\n",
    "\n",
    "    \n",
    "# \n",
    "# random_data = {\n",
    "#     \"list1\" : [54, 7, 11],\n",
    "#     \"2\" : [\"smith\", \"iPod\", \"water bottle\"],\n",
    "# }\n",
    "\n",
    "# **If we just wanted the value from key \"2\" printed alltogether as a list:**\n",
    "print(random_data[\"2\"])\n",
    "# **If we just wanted the value from key \"2\" printed individually:**\n",
    "for key in random_data[\"2\"]:\n",
    "    print(key)\n",
    "# *This prints the value from key \"list1\" invidiually:*\n",
    "for key in random_data[\"list1\"]:\n",
    "    print(key)\n",
    "   \n",
    "\n",
    "# ***If we changed random_data dictionary to (pulling info from a dict within a list within a dict):***\n",
    "random_data = {\n",
    "    \"list1\" : [54, 7, 11],\n",
    "    \"2\" : [\"smith\", \"iPod\", {\"water\" : \"bottle\"}],\n",
    "}    \n",
    "\n",
    "# **This will print out: \"bottle\"\n",
    "print(random_data[\"2\"][2][\"water\"])"
   ]
  },
  {
   "cell_type": "markdown",
   "metadata": {},
   "source": [
    "##### Dictionaries with Dictionaries"
   ]
  },
  {
   "cell_type": "code",
   "execution_count": 32,
   "metadata": {},
   "outputs": [
    {
     "name": "stdout",
     "output_type": "stream",
     "text": [
      "6.99\n",
      "CHO\n",
      "VA\n",
      "Oreo\n",
      "PB\n",
      "('CHO', 2.99)\n",
      "('VA', 3.99)\n",
      "('Oreo', 5.99)\n",
      "('PB', 6.99)\n"
     ]
    }
   ],
   "source": [
    "# ******VERY GOOD SKILL TO HAVE, (Especially if going data route - useful to sort through tons of data):******\n",
    "# **to get values, must traverse through keys**\n",
    "\n",
    "food_dict = {\n",
    "    \"ice_cream\" : {\n",
    "        \"CHO\" : 2.99,\n",
    "        \"VA\" : 3.99,\n",
    "        \"Oreo\" : 5.99,\n",
    "        \"PB\" : 6.99,\n",
    "    }\n",
    "}\n",
    "\n",
    "# ** Getting the price of PB ice cream from dictionary within a dictionary (using the key of the key):**\n",
    "print(food_dict['ice_cream']['PB'])\n",
    "\n",
    "# **Looping through dictionary to get all the flavors of ice cream printed individualy:**\n",
    "for i in food_dict['ice_cream'].keys():\n",
    "    print(i)\n",
    "# **Looping through to get SETS of each flavor with price as such \"('flavor', price)\":**\n",
    "for i in food_dict['ice_cream'].items():\n",
    "    print(i)\n"
   ]
  },
  {
   "cell_type": "markdown",
   "metadata": {},
   "source": [
    "## Dictionaries vs. Lists (over time) Example of RUNTIME\n",
    "### When inputting values in a Dictionary vs List"
   ]
  },
  {
   "cell_type": "code",
   "execution_count": 33,
   "metadata": {},
   "outputs": [],
   "source": [
    "# ****DICTIONARIES FASTER THAN LISTS ALMOST EVERY TIME (think: can I use a dictionary for what I'm doing?)****\n",
    "\n",
    "# **This is importing module of time to our code:**\n",
    "import time\n",
    "\n",
    "\n",
    "# generate fake dictionary\n",
    "d = {}\n",
    "\n",
    "for i in range(10000000):\n",
    "    d[i] = 'value'\n",
    "    \n",
    "\n",
    "# generate fake list\n",
    "big_list = [x for x in range(10000000)]"
   ]
  },
  {
   "cell_type": "code",
   "execution_count": 34,
   "metadata": {},
   "outputs": [
    {
     "name": "stdout",
     "output_type": "stream",
     "text": [
      "value\n",
      "Elapsed time for dictionary: 0.0\n",
      "9999999\n",
      "Elapsed time for list: 0.6131377220153809\n"
     ]
    }
   ],
   "source": [
    "# ****tracking time for dictionary****\n",
    "start_time = time.time()\n",
    "\n",
    "# **This prints: \"value\":**\n",
    "print(d[9999999])\n",
    "\n",
    "end_time = time.time() - start_time\n",
    "\n",
    "print('Elapsed time for dictionary: {}'.format(end_time))\n",
    "\n",
    "\n",
    "# ****tracking time for list****\n",
    "start_time = time.time()\n",
    "\n",
    "for i in range(len(big_list)):\n",
    "    if i == 9999999:\n",
    "#       *Prints: \"9999999\":*\n",
    "        print(i)\n",
    "\n",
    "end_time = time.time() - start_time\n",
    "\n",
    "print('Elapsed time for list: {}'.format(end_time))"
   ]
  },
  {
   "cell_type": "markdown",
   "metadata": {},
   "source": [
    "## Exercise #3 - Write a Function that asks someone's name and address, and then stores that into a dictionary, and continues to do so until they choose to 'quit'. Once they quit, the program should print all names and addresses. <br>\n",
    "<p>\n",
    "<b>Proper steps:</b><br>\n",
    "step 1: write a function that takes in information and stores it in a dictionary<br>\n",
    "step 2: define an empty dictionary to work with<br>\n",
    "step 3: create our loop, which asks the user for information until they quit<br>\n",
    "step 4: ask for the information, and store it into variables<br>\n",
    "step 5: check if the user types quit<br>\n",
    "step 5a: print out all information<br>\n",
    "step 5b: break out of the loop<br>\n",
    "step 6: if they didn't quit, add the information to the dictionary<br>\n",
    "step 7: invoke the function by calling it\n",
    "</p>"
   ]
  },
  {
   "cell_type": "code",
   "execution_count": 27,
   "metadata": {},
   "outputs": [
    {
     "name": "stdout",
     "output_type": "stream",
     "text": [
      "{'alex': '123 main street'}\n"
     ]
    }
   ],
   "source": [
    "# ***clear_output being imported and used to clear output from user:***\n",
    "# **Hint is to take each of the 7 steps above seriously, they tell you what to do**\n",
    "from IPython.display import clear_output\n",
    "\n",
    "empty_dict = {}\n",
    "\n",
    "# ****Want to try harder here and see about using \"clear_output()\"****Maybe return printdict and print as else?\n",
    "\n",
    "\n",
    "# Step 1:\n",
    "def inputIntoDict():\n",
    "    x = True\n",
    "    while x == True:\n",
    "        print(\"Please answer questions or enter 'quit' to quit.\")\n",
    "        key = input(\"What's your name? \")\n",
    "        clear_output()\n",
    "        if key == \"quit\":\n",
    "            x == False\n",
    "            print(empty_dict)\n",
    "            break\n",
    "        elif key != \"quit\":\n",
    "            value = input(\"What's your address (enter 'quit' to quit)?\")\n",
    "            clear_output()\n",
    "            if value == \"quit\":\n",
    "                x == False\n",
    "                print(empty_dict)\n",
    "                break\n",
    "            elif value != \"quit\":\n",
    "                empty_dict[key] = value\n",
    "\n",
    "\n",
    "\n",
    "inputIntoDict()\n"
   ]
  },
  {
   "cell_type": "markdown",
   "metadata": {},
   "source": [
    "## Set <br>\n",
    "<p>A Set is an unordered collection data type that is iterable (loop), mutable, and has no duplicate elements.<br>Major advantage is that it is highly optimized in checking if something is in the set, as opposed to checking if something is in a list. FASTER than list!!</p><br>\n",
    "<p>***Stuff inside of set can't be changed! Won't have duplicates, will only have one of each pair***"
   ]
  },
  {
   "cell_type": "markdown",
   "metadata": {},
   "source": [
    "##### Declaring"
   ]
  },
  {
   "cell_type": "code",
   "execution_count": 83,
   "metadata": {},
   "outputs": [
    {
     "name": "stdout",
     "output_type": "stream",
     "text": [
      "{1, 4, 6}\n"
     ]
    }
   ],
   "source": [
    "# **Syntax: set() or {}  **\n",
    "# **no order {3, 2, 1} outputs as {1, 2, 3} **\n",
    "nums = {4, 1, 6, 4}\n",
    "\n",
    "# **Will only have one \"4\" since you CAN'T have duplicates in a set!!**Also auto-sorted to {1, 4, 6}**\n",
    "print(nums)\n"
   ]
  },
  {
   "cell_type": "markdown",
   "metadata": {},
   "source": [
    "##### .add()"
   ]
  },
  {
   "cell_type": "code",
   "execution_count": 87,
   "metadata": {},
   "outputs": [
    {
     "name": "stdout",
     "output_type": "stream",
     "text": [
      "{1, 4, 6, 56}\n"
     ]
    }
   ],
   "source": [
    "# **Syntax: set.add()  **\n",
    "\n",
    "# **Puts \"56\" at the BEGINNING of the set:**\n",
    "nums.add(56)\n",
    "print(nums)"
   ]
  },
  {
   "cell_type": "markdown",
   "metadata": {},
   "source": [
    "##### .remove()"
   ]
  },
  {
   "cell_type": "code",
   "execution_count": 88,
   "metadata": {},
   "outputs": [
    {
     "name": "stdout",
     "output_type": "stream",
     "text": [
      "{1, 4, 6}\n"
     ]
    }
   ],
   "source": [
    "# **Removes by value **\n",
    "# **Syntax: set.remove()  **\n",
    "\n",
    "# *Takes \"56\" out of our set of nums*\n",
    "nums.remove(56)\n",
    "\n",
    "print(nums)\n"
   ]
  },
  {
   "cell_type": "markdown",
   "metadata": {},
   "source": [
    "##### .union() "
   ]
  },
  {
   "cell_type": "code",
   "execution_count": 91,
   "metadata": {},
   "outputs": [
    {
     "name": "stdout",
     "output_type": "stream",
     "text": [
      "{1, 2, 3, 4, 5, 6}\n",
      "{1, 2, 3, 4, 5, 6}\n"
     ]
    }
   ],
   "source": [
    "# ***Returns a union of two sets, can also use '|' or set.union(set) ***\n",
    "# **joins all numbers, gets rid of duplicates**\n",
    "s1 = {1,2,3,4}\n",
    "s2 = {3,4,5,6}\n",
    "\n",
    "# *Combines the two sets and gets rid of duplicates:*\n",
    "s3 = s1.union(s2)\n",
    "\n",
    "print(s3)\n",
    "\n",
    "\n",
    "# ***ANOTHER WAY to do same as above: ***\n",
    "s4 = s1 | s2\n",
    "print(s4)"
   ]
  },
  {
   "cell_type": "markdown",
   "metadata": {},
   "source": [
    "##### .intersection()"
   ]
  },
  {
   "cell_type": "code",
   "execution_count": 93,
   "metadata": {},
   "outputs": [
    {
     "name": "stdout",
     "output_type": "stream",
     "text": [
      "{3, 4}\n",
      "{3, 4}\n"
     ]
    }
   ],
   "source": [
    "# **Returns an intersection of two sets, can also use '&' ***\n",
    "# **Only takes similar elements from both sets**\n",
    "\n",
    "s5 = s2 & s1\n",
    "\n",
    "# **This returns a set of the items that were in both of the sets prior to the intersection():**\n",
    "print(s5)\n",
    "\n",
    "\n",
    "# ***ANOTHER WAY to do same as above: ***\n",
    "s6 = s1.intersection(s2)\n",
    "print(s6)"
   ]
  },
  {
   "cell_type": "markdown",
   "metadata": {},
   "source": [
    "##### .difference()"
   ]
  },
  {
   "cell_type": "code",
   "execution_count": 94,
   "metadata": {},
   "outputs": [
    {
     "name": "stdout",
     "output_type": "stream",
     "text": [
      "{5, 6}\n",
      "{1, 2}\n"
     ]
    }
   ],
   "source": [
    "# ***Returns a set containing all the elements of invoking set that are not in the second set, can also use '-' ***\n",
    "# ***Only takes values from the first set that are not in the second set ***\n",
    "# *****Order matters*****\n",
    "\n",
    "# This takes what is in set 2 that is not in set 1: **\n",
    "s7 = s2 - s1\n",
    "print(s7)\n",
    "\n",
    "# ***ANOTHER WAY to do this: ***\n",
    "# **This is reverse from above (takes what is in set 1 that is not in set 2):**\n",
    "s8 = s1.difference(s2)\n",
    "print(s8)\n"
   ]
  },
  {
   "cell_type": "markdown",
   "metadata": {},
   "source": [
    "##### .clear()"
   ]
  },
  {
   "cell_type": "code",
   "execution_count": 95,
   "metadata": {},
   "outputs": [
    {
     "name": "stdout",
     "output_type": "stream",
     "text": [
      "set()\n"
     ]
    }
   ],
   "source": [
    "# ***Empties the whole set***\n",
    "# **Syntax: set.clear()  **\n",
    "\n",
    "# *This will print \"set()\" which is just saying we have a set called s8, but it's empty now that we .clear() it:*\n",
    "s8.clear()\n",
    "print(s8)"
   ]
  },
  {
   "cell_type": "markdown",
   "metadata": {},
   "source": [
    "##### Frozenset <br>\n",
    "<p>Frozen sets are immutable objects that only support methods and operators that produce a result without affecting the frozen set or sets to which they are applied.</p><br><b>Unique & Immutable</b>"
   ]
  },
  {
   "cell_type": "code",
   "execution_count": 98,
   "metadata": {},
   "outputs": [
    {
     "name": "stdout",
     "output_type": "stream",
     "text": [
      "frozenset({1, 2, 3, 4, 5, 6})\n"
     ]
    }
   ],
   "source": [
    "# ****CAN ONLY USE .sorted() on this, not .sort() ****\n",
    "# ** Syntax: frozenset([])  **\n",
    "\n",
    "my_frozen_set = frozenset(s3)\n",
    "print(my_frozen_set)\n",
    "\n",
    "# ***This gives us error because we can't change a Frozenset!!!: *** If we did this BEFORE frozenset(), it would go into set***\n",
    "# my_frozen_set.add(56)"
   ]
  },
  {
   "cell_type": "markdown",
   "metadata": {},
   "source": [
    "## Modules"
   ]
  },
  {
   "cell_type": "markdown",
   "metadata": {},
   "source": [
    "##### Importing Entire Modules"
   ]
  },
  {
   "cell_type": "code",
   "execution_count": 102,
   "metadata": {},
   "outputs": [
    {
     "name": "stdout",
     "output_type": "stream",
     "text": [
      "3.141592653589793\n",
      "3\n",
      "Help on built-in function floor in module math:\n",
      "\n",
      "floor(x, /)\n",
      "    Return the floor of x as an Integral.\n",
      "    \n",
      "    This is the largest integer <= x.\n",
      "\n"
     ]
    }
   ],
   "source": [
    "#  ****VERY USEFUL****Can import stuff already built-in to Python and call my own created functions as well****MORESO LATER ON**\n",
    "# **Syntax: import or from 'xxx' import *  ** \n",
    "# **Math is a good/important one!**\n",
    "\n",
    "# *Importing multiple pieces from math:*\n",
    "from math import pi\n",
    "# * floor rounds down to nearest whole number:*\n",
    "from math import floor\n",
    "\n",
    "# ***Same way to do above two steps in 1 step:***\n",
    "from math import pi, floor\n",
    "\n",
    "# ******We CAN also just import math alltogether and not by each function/piece within math: (Adds time doing it this way)*******\n",
    "import math \n",
    "\n",
    "print(pi)\n",
    "print(floor(pi))\n",
    "\n",
    "# **Can check to see what things do by using help AFTER you've imported it:**\n",
    "help(floor)"
   ]
  },
  {
   "cell_type": "markdown",
   "metadata": {},
   "source": [
    "##### Importing Methods Only"
   ]
  },
  {
   "cell_type": "code",
   "execution_count": 103,
   "metadata": {},
   "outputs": [
    {
     "name": "stdout",
     "output_type": "stream",
     "text": [
      "3.141592653589793\n",
      "3\n"
     ]
    }
   ],
   "source": [
    "# ****Was already gone over in above section***This is to import certain pieces such as (floor, pi) from \"math\":****\n",
    "# *** from 'xxx' import 'xxx' ***\n",
    "# from math import floor\n",
    "\n",
    "from math import pi, floor\n",
    "\n",
    "print(pi)\n",
    "print(floor(pi))\n"
   ]
  },
  {
   "cell_type": "markdown",
   "metadata": {},
   "source": [
    "##### Using the 'as' Keyword"
   ]
  },
  {
   "cell_type": "code",
   "execution_count": 104,
   "metadata": {},
   "outputs": [
    {
     "name": "stdout",
     "output_type": "stream",
     "text": [
      "3\n"
     ]
    }
   ],
   "source": [
    "# ***This allows us to import sections and name them differently:***\n",
    "# ** Syntax: from 'xxx' import 'xxx' as 'xxx' or import 'xxx' as 'xxx' **\n",
    "# **Example: from math import floor as f  **\n",
    "\n",
    "# **Doing SAME THING as above, a little cleaner/easier**\n",
    "from math import floor as f, pi as p\n",
    "\n",
    "print(f(p))\n"
   ]
  },
  {
   "cell_type": "markdown",
   "metadata": {},
   "source": [
    "##### Creating a Module"
   ]
  },
  {
   "cell_type": "code",
   "execution_count": 109,
   "metadata": {},
   "outputs": [
    {
     "name": "stdout",
     "output_type": "stream",
     "text": [
      "Hello Mr/Ms {name}...we've been waiting for you!\n",
      "Hello Mr/Ms {name}...we've been waiting for you!\n"
     ]
    }
   ],
   "source": [
    "import module\n",
    "\n",
    "#  ** The \".\" below means \"we're looking inside of module for the function/item \"printName\"\"\n",
    "print(module.printName(\"Alex\"))\n",
    "\n",
    "\n",
    "#  ***Same as above: ***\n",
    "from module import printName\n",
    "\n",
    "print(printName(\"Alex\"))"
   ]
  },
  {
   "cell_type": "markdown",
   "metadata": {},
   "source": [
    "# Exercises"
   ]
  },
  {
   "cell_type": "markdown",
   "metadata": {},
   "source": [
    "### 1) Build a Shopping Cart <br>\n",
    "<p><b>You can use either lists or dictionaries. The program should have the following capabilities:</b><br><br>\n",
    "1) Takes in input <br>\n",
    "2) Stores user input into a dictionary or list <br>\n",
    "3) The User can add or delete items <br>\n",
    "4) The User can see current shopping list <br>\n",
    "5) The program Loops until user 'quits' <br>\n",
    "6) Upon quiting the program, print out all items in the user's list <br>\n",
    "</p>"
   ]
  },
  {
   "cell_type": "code",
   "execution_count": 26,
   "metadata": {},
   "outputs": [
    {
     "name": "stdout",
     "output_type": "stream",
     "text": [
      "Would you like to show/add/delete from your cart or quit? (type which one you'd like to do) delete\n",
      "What would you like to remove from your cart? potatos\n",
      "Potatos is not in your cart, it was not removed.\n",
      "Would you like to show/add/delete from your cart or quit? (type which one you'd like to do) show\n",
      "bananas\n",
      "oranges\n",
      "Would you like to show/add/delete from your cart or quit? (type which one you'd like to do) quit\n"
     ]
    }
   ],
   "source": [
    "from IPython.display import clear_output\n",
    "\n",
    "# Ask the user four bits of input: Do you want to : Show/Add/Delete or Quit?\n",
    "\n",
    "shopping_cart = []\n",
    "\n",
    "while True:\n",
    "    action = input(\"Would you like to show/add/delete from your cart or quit? (type which one you'd like to do) \")\n",
    "    if action == \"add\":\n",
    "        buy = input(\"What would you like to add to your cart? \")\n",
    "        shopping_cart.append(buy)\n",
    "        clear_output()\n",
    "    elif action == \"delete\":\n",
    "        rem = input(\"What would you like to remove from your cart? \")\n",
    "        if rem in shopping_cart:\n",
    "            shopping_cart.remove(rem)\n",
    "            clear_output()\n",
    "        else:\n",
    "            print(f\"{rem.title()} is not in your cart, it was not removed.\")       \n",
    "    elif action == \"show\":      \n",
    "        for x in range(len(shopping_cart)):\n",
    "            print(shopping_cart[x])\n",
    "    elif action == \"quit\":\n",
    "        break\n",
    "    else: \n",
    "        print(\"Sorry, that's not an available action, please select only show/add/delete/quit.\")\n",
    "    \n"
   ]
  },
  {
   "cell_type": "markdown",
   "metadata": {},
   "source": [
    "### 2) Create a Module in VS Code and Import It into jupyter notebook <br>\n",
    "<p><b>Module should have the following capabilities:</b><br><br>\n",
    "1) Has a function to calculate the square footage of a house <br>\n",
    "    <b>Reminder of Formula: Length X Width == Area<br>\n",
    "        <hr>\n",
    "2) Has a function to calculate the circumference of a circle <br><br>\n",
    "<b>Program in Jupyter Notebook should take in user input and use imported functions to calculate a circle's circumference or a houses square footage</b>\n",
    "</p>"
   ]
  },
  {
   "cell_type": "code",
   "execution_count": 2,
   "metadata": {},
   "outputs": [
    {
     "name": "stdout",
     "output_type": "stream",
     "text": [
      "What is the length (in whole feet) of the home? 10\n",
      "What is the width (in whole feet) of the home? 10\n",
      "The area of the home is: 100 square feet.\n",
      "What is the radius of the circle? (please enter whole number only) 6\n",
      "The circumference of the circle is 37.69911184307752 of whatever unit of measurement you are using.\n"
     ]
    }
   ],
   "source": [
    "from ac import area\n",
    "from ac import circumference\n",
    "\n",
    "area()\n",
    "circumference()\n"
   ]
  }
 ],
 "metadata": {
  "kernelspec": {
   "display_name": "Python 3 (ipykernel)",
   "language": "python",
   "name": "python3"
  },
  "language_info": {
   "codemirror_mode": {
    "name": "ipython",
    "version": 3
   },
   "file_extension": ".py",
   "mimetype": "text/x-python",
   "name": "python",
   "nbconvert_exporter": "python",
   "pygments_lexer": "ipython3",
   "version": "3.9.13"
  },
  "vscode": {
   "interpreter": {
    "hash": "09dc6c8814f6bdfa0b21d9ce50d62ed08961ead38cf92ba91e9f43530d531ab6"
   }
  }
 },
 "nbformat": 4,
 "nbformat_minor": 2
}
